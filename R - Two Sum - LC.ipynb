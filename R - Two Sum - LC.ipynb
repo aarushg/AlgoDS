{
 "cells": [
  {
   "cell_type": "markdown",
   "metadata": {},
   "source": [
    "Given an array of integers nums and an integer target, return indices of the two numbers such that they add up to target.\n",
    "\n",
    "You may assume that each input would have exactly one solution, and you may not use the same element twice.\n",
    "\n",
    "You can return the answer in any order."
   ]
  },
  {
   "cell_type": "markdown",
   "metadata": {},
   "source": [
    "Topics Covered: HashMap"
   ]
  },
  {
   "cell_type": "markdown",
   "metadata": {},
   "source": [
    "Reference:\n",
    "  https://leetcode.com/problems/two-sum/\n",
    "  https://www.youtube.com/watch?v=BoHO04xVeU0"
   ]
  },
  {
   "cell_type": "markdown",
   "metadata": {},
   "source": [
    "Difficulty: Easy"
   ]
  },
  {
   "cell_type": "markdown",
   "metadata": {},
   "source": [
    "Example: \n",
    "\n",
    "Input: nums = [2,7,11,15], target = 9\n",
    "Output: [0,1]\n",
    "Output: Because nums[0] + nums[1] == 9, we return [0, 1].\n",
    "Example 2:\n",
    "\n",
    "Input: nums = [3,2,4], target = 6\n",
    "Output: [1,2]\n",
    "Example 3:\n",
    "\n",
    "Input: nums = [3,3], target = 6\n",
    "Output: [0,1]"
   ]
  },
  {
   "cell_type": "code",
   "execution_count": 17,
   "metadata": {},
   "outputs": [
    {
     "data": {
      "text/plain": [
       "[0, 1]"
      ]
     },
     "execution_count": 17,
     "metadata": {},
     "output_type": "execute_result"
    }
   ],
   "source": [
    "#Brute Force\n",
    "# O(n^2)\n",
    "\n",
    "nums = [2,7,11,15]\n",
    "target = 9\n",
    "\n",
    "\n",
    "def twoSumB(nums, target):\n",
    "    \n",
    "    for i in range(len(nums)):\n",
    "        for j in range(len(nums)):\n",
    "            \n",
    "            compliment = target - nums[i]\n",
    "            \n",
    "            if nums[j] == compliment:\n",
    "                return( [i, j])\n",
    "\n",
    "twoSumB(nums, target)"
   ]
  },
  {
   "cell_type": "code",
   "execution_count": null,
   "metadata": {},
   "outputs": [],
   "source": [
    "#HashMap\n",
    "#O(n)\n",
    "\n",
    "dict = {}\n",
    "\n",
    "def twoSumHM(nums, target):\n",
    "    \n",
    "    for i in range(len(nums)):\n",
    "        compliment = target - nums[i]\n",
    "            \n",
    "            if nums[j] == compliment:\n",
    "                return( [i, j])\n",
    "\n",
    "twoSumHM(nums, target)\n",
    "\n"
   ]
  },
  {
   "cell_type": "code",
   "execution_count": 9,
   "metadata": {},
   "outputs": [
    {
     "data": {
      "text/plain": [
       "(0, 1)"
      ]
     },
     "execution_count": 9,
     "metadata": {},
     "output_type": "execute_result"
    }
   ],
   "source": [
    "nums = [2,7,11,15]\n",
    "target = 9\n",
    "\n",
    "\n",
    "def twoSum1(nums, target):\n",
    "    for i in nums:\n",
    "\n",
    "        j = target - i\n",
    "        sIndex = nums.index(i)\n",
    "        nIndex = sIndex + 1 \n",
    "        tempNum = nums[nIndex: ]\n",
    "\n",
    "        if j in tempNum:\n",
    "            return(nums.index(i), nIndex + tempNum.index(j))\n",
    "        \n",
    "\n",
    "twoSum1(nums, target)\n"
   ]
  },
  {
   "cell_type": "code",
   "execution_count": null,
   "metadata": {},
   "outputs": [],
   "source": []
  }
 ],
 "metadata": {
  "kernelspec": {
   "display_name": "Python 3",
   "language": "python",
   "name": "python3"
  },
  "language_info": {
   "codemirror_mode": {
    "name": "ipython",
    "version": 3
   },
   "file_extension": ".py",
   "mimetype": "text/x-python",
   "name": "python",
   "nbconvert_exporter": "python",
   "pygments_lexer": "ipython3",
   "version": "3.8.3"
  }
 },
 "nbformat": 4,
 "nbformat_minor": 4
}
