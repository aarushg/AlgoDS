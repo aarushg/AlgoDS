{
 "cells": [
  {
   "cell_type": "raw",
   "metadata": {},
   "source": [
    "Algorithms and Data Structures Overview"
   ]
  },
  {
   "cell_type": "code",
   "execution_count": null,
   "metadata": {},
   "outputs": [],
   "source": []
  },
  {
   "cell_type": "code",
   "execution_count": null,
   "metadata": {},
   "outputs": [],
   "source": []
  },
  {
   "cell_type": "markdown",
   "metadata": {},
   "source": [
    "Topics to Cover:\n",
    "\n",
    "\n",
    "1. Stacks, Queues, and Deques\n",
    "2. Linked Lists\n",
    "3. Trees\n",
    "4. Maps, Hash Tables, and Skip Lists\n",
    "5. Graph Algorithms"
   ]
  },
  {
   "cell_type": "markdown",
   "metadata": {},
   "source": [
    "References:\n"
   ]
  },
  {
   "cell_type": "markdown",
   "metadata": {},
   "source": [
    "We will cover the following topics:\n",
    "\n",
    "1. "
   ]
  },
  {
   "cell_type": "raw",
   "metadata": {},
   "source": [
    "# Stack\n"
   ]
  },
  {
   "cell_type": "code",
   "execution_count": null,
   "metadata": {},
   "outputs": [],
   "source": []
  },
  {
   "cell_type": "markdown",
   "metadata": {},
   "source": [
    "# Linked Lists"
   ]
  },
  {
   "cell_type": "code",
   "execution_count": null,
   "metadata": {},
   "outputs": [],
   "source": []
  },
  {
   "cell_type": "markdown",
   "metadata": {},
   "source": [
    "References:\n",
    "https://dbader.org/blog/python-linked-list"
   ]
  },
  {
   "cell_type": "markdown",
   "metadata": {},
   "source": [
    "We will cover the following topics:\n",
    "\n",
    "1. Singly Linked Lists\n",
    "\n",
    "2. Implementing a Singly Linked List\n",
    "\n",
    "3. Doubly Linked Lists\n",
    "\n",
    "4. Implementing a Doubly Linked list\n",
    "\n",
    "5. Linked Lists Interview Problems"
   ]
  },
  {
   "cell_type": "code",
   "execution_count": null,
   "metadata": {},
   "outputs": [],
   "source": []
  },
  {
   "cell_type": "code",
   "execution_count": 13,
   "metadata": {},
   "outputs": [
    {
     "ename": "SyntaxError",
     "evalue": "invalid syntax (<ipython-input-13-a362940d39e8>, line 1)",
     "output_type": "error",
     "traceback": [
      "\u001b[1;36m  File \u001b[1;32m\"<ipython-input-13-a362940d39e8>\"\u001b[1;36m, line \u001b[1;32m1\u001b[0m\n\u001b[1;33m    //////////////////////////////////////////////////////////////////////////////////////////////////////\u001b[0m\n\u001b[1;37m    ^\u001b[0m\n\u001b[1;31mSyntaxError\u001b[0m\u001b[1;31m:\u001b[0m invalid syntax\n"
     ]
    }
   ],
   "source": [
    "//////////////////////////////////////////////////////////////////////////////////////////////////////"
   ]
  },
  {
   "cell_type": "markdown",
   "metadata": {},
   "source": [
    "### Single Linked List \n",
    "\n",
    "The first and last node of a linked list are known as the head and tail of the\n",
    "list, respectively. By starting at the head, and moving from one node to another\n",
    "by following each node’s next reference, we can reach the tail of the list. We can\n",
    "identify the tail as the node having None as its next reference. This process is\n",
    "commonly known as traversing the linked list. Because the next reference of a\n",
    "node can be viewed as a link or pointer to another node, the process of traversing\n",
    "a list is also known as link hopping or pointer hopping.\n",
    "\n",
    "\n"
   ]
  },
  {
   "cell_type": "markdown",
   "metadata": {},
   "source": [
    "### Algorithm: Inserting an Element at the Head or the Last of a Singly Linked List\n",
    "The main idea is that we create a new node, set its element to the new element, set its next link to refer to the current head, and then set the list’s head to point to the new node."
   ]
  },
  {
   "cell_type": "markdown",
   "metadata": {},
   "source": [
    "Algorithm add_first(L,e):\n",
    "\n",
    "    newest = Node(e) \n",
    "    {create new node instance storing reference to element e}\n",
    "    \n",
    "    newest.next = L.head {set new node’s next to reference the old head node}\n",
    "    \n",
    "    L.head = newest {set variable head to reference the new node}\n",
    "    \n",
    "    L.size = L.size+1 {increment the node count}\n",
    "    \n",
    "Inserting a new element at the beginning of a singly linked\n",
    "list L. Note that we set the next pointer of the new node before we reassign variable L.head to it. If the list were initially empty (i.e., L.head is None), then a natural consequence is that the new node has its next reference set to None."
   ]
  },
  {
   "cell_type": "markdown",
   "metadata": {},
   "source": [
    "Algorithm add_last(L,e):\n",
    "\n",
    "    newest = Node(e) \n",
    "    {create new node instance storing reference to element e}\n",
    "    \n",
    "    newest.next = None {set new node’s next to reference the None object}\n",
    "    \n",
    "    L.tail.next = newest {make old tail node point to new node}\n",
    "    \n",
    "    L.tail = newest {set variable tail to reference the new node}\n",
    "    \n",
    "    L.size = L.size+1 {increment the node count}\n",
    "    \n",
    "Inserting a new node at the end of a singly linked list. Note\n",
    "that we set the next pointer for the old tail node before we make variable tail point to the new node. This code would need to be adjusted for inserting onto an empty list, since there would not be an existing tail node"
   ]
  },
  {
   "cell_type": "markdown",
   "metadata": {},
   "source": [
    "### Algorithm: Removing the first Element from a Singly Linked List\n",
    "\n"
   ]
  },
  {
   "cell_type": "markdown",
   "metadata": {},
   "source": [
    "Removing the node at the beginning of a singly linked list.\n",
    "\n",
    "Algorithm remove_first(L):\n",
    "\n",
    "    if L.head is None then\n",
    "        Indicate an error: the list is empty.\n",
    "        \n",
    "    L.head = L.head.next {make head point to next node (or None)}\n",
    "    \n",
    "    L.size = L.size−1 {decrement the node count}"
   ]
  },
  {
   "cell_type": "markdown",
   "metadata": {},
   "source": [
    "### Code: Basic Class based singly-linked list with basic operations:"
   ]
  },
  {
   "cell_type": "code",
   "execution_count": null,
   "metadata": {},
   "outputs": [],
   "source": [
    "class ListNode:\n",
    "    \"\"\"\n",
    "    A node is a singly-linked list\n",
    "    \"\"\"\n",
    "    \n",
    "    def __init__(self, data=None, next=None):\n",
    "        self.data = data\n",
    "        self.next = next\n",
    "        \n",
    "    def __repr__(self):\n",
    "        return repr(self.data)\n",
    "\n",
    "class SinglyLinkedList:\n",
    "    def __init__(self):\n",
    "        \"\"\"Create a new single linked list\"\"\"\n",
    "        self.head = None\n",
    "    \n",
    "    def __repr__(self):\n",
    "        \"\"\"Ret a string rep of list \"\"\"\n",
    "        \n",
    "        nodes = [] # init empty list\n",
    "        curr = self.head # set current node to head of list\n",
    "        while curr: # while at current head\n",
    "            nodes.append(repr(curr)) # add to the empty list\n",
    "            curr= curr.next # keep going to next element \n",
    "        return '[' + ','.join(nodes) + ']'\n",
    "    \n",
    "    def prepend(self, data):\n",
    "        \"\"\"Insert a new element at the beg of Linked List \"\"\"\n",
    "        self.head = ListNode(data=data, next=self.head) # create a new head \n",
    "        \n",
    "    def append(self, data):\n",
    "        \"\"\"Insert new element at the end of list\"\"\"\n",
    "        \n",
    "        if not self.head: #\n",
    "            self.head = ListNode(data=data)\n",
    "            return\n",
    "        \n",
    "        curr = self.head\n",
    "        \n",
    "        while curr.next: \n",
    "            curr = curr.next\n",
    "        curr.next = ListNode(data=data)\n",
    "        \n",
    "    def find(self, key):\n",
    "        \"\"\"\n",
    "        search for the first element that matches our key \n",
    "        \"\"\"\n",
    "        \n",
    "        curr = self.head #set curr to the head of the list\n",
    "        while curr and curr.data != key: # while we dont find our element \n",
    "            curr = curr.next # keep setting current to the next element \n",
    "        \n",
    "        return curr # return the current element if we find the key, none otherwise\n",
    "    \n",
    "    def remove(self, key):\n",
    "        \"\"\"\n",
    "        Remove the first occurrence of `key` in the list.\n",
    "        Takes O(n) time.\n",
    "        \"\"\"\n",
    "        # Find the element and keep a\n",
    "        # reference to the element preceding it\n",
    "        curr = self.head # set the head of the linkedlist to current\n",
    "        prev = None # init the prev element to None \n",
    "        while curr and curr.data != key: # go through the list while we dont find the value key \n",
    "            prev = curr\n",
    "            curr = curr.next\n",
    "        # Unlink it from the list\n",
    "        if prev is None:\n",
    "            self.head = curr.next\n",
    "        elif curr:\n",
    "            prev.next = curr.next\n",
    "            curr.next = None\n",
    "    \n",
    "    def reverse(self):\n",
    "        \"\"\"\n",
    "        Reverse the list in-place.\n",
    "        Takes O(n) time.\n",
    "        \"\"\"\n",
    "        curr = self.head\n",
    "        prev_node = None\n",
    "        next_node = None\n",
    "        while curr:\n",
    "            next_node = curr.next\n",
    "            curr.next = prev_node\n",
    "            prev_node = curr\n",
    "            curr = next_node\n",
    "        self.head = prev_node\n",
    "            \n",
    "        "
   ]
  },
  {
   "cell_type": "markdown",
   "metadata": {},
   "source": [
    "### Implementing a Stack with a Singly Linked List\n",
    "\n",
    "In this section, we demonstrate use of a singly linked list by providing a complete Python implementation of the stack ADT. In designing such an implementation, we need to decide whether to model the top of the stack at the head or at the tail of the list. There is clearly a best choice here; we can efficiently insert and delete elements in constant time only at the head. Since all stack operations affect the top, we orient the top of the stack at the head of our list.\n",
    "\n",
    "To represent individual nodes of the list, we develop a lightweight Node class.\n",
    "\n",
    "This class will never be directly exposed to the user of our stack class, so we will formally define it as a nonpublic, nested class of our eventual LinkedStack class"
   ]
  },
  {
   "cell_type": "code",
   "execution_count": 8,
   "metadata": {},
   "outputs": [],
   "source": [
    "class LinkedListStack:\n",
    "    \"\"\"LIFO Stack implementation using a singly linked list for storage.\"\"\"\n",
    "    \n",
    "    #------------------ nested _Node Class\n",
    "\n",
    "    class _Node:\n",
    "        __slots__ = '_element', '_next' #streamline memory usage\n",
    "\n",
    "        def __init__(self, element, next): #init mode fields \n",
    "            self._element = element #ref to user element\n",
    "            self._next = next #ref to next node \n",
    "            \n",
    "    #------------------ Stack method\n",
    "    \n",
    "    def __init__(self):\n",
    "        \"\"\"Create an empty stack\"\"\"\n",
    "        self._head = None #ref to the head node\n",
    "        self._size = 0 #number of stack element\n",
    "    \n",
    "    def __len__(self):\n",
    "        \"\"\"ret the number of elements in the stack\"\"\"\n",
    "        return self._size\n",
    "    \n",
    "    def is_empty(self):\n",
    "        \"\"\"True, if empty\"\"\"\n",
    "        return self._size == 0\n",
    "    \n",
    "    def push(self, e):\n",
    "        \"\"\"Add element e to the top of the stack\"\"\"\n",
    "        self._head = self._Node(e, self._head) #create and link a new node\n",
    "        self._size +=1 #increment the size\n",
    "        \n",
    "    def top(self):\n",
    "        \"\"\"Return the element at the top of the stack, raise exception if stack is empty\"\"\"\n",
    "        if self.is_empty():\n",
    "            raise Empty('Stack is empty')\n",
    "        return self._head._element #top of stack is at the head of the list \n",
    "    \n",
    "    def pop(self):\n",
    "        \"\"\"Ret and remove the top of the stack, LIFO\"\"\"\n",
    "        if self.is_empty(): #check if the list is empty \n",
    "            raise Empty('Stack is empty')\n",
    "        answer = self._head._element # store the head of the list \n",
    "        self._head = self._head._next # set the new head in the list \n",
    "        self._size -= 1 # subtract the size \n",
    "        return answer # reteurn and remove the head"
   ]
  },
  {
   "cell_type": "markdown",
   "metadata": {},
   "source": [
    "### Implementing a Queue with a Singly Linked List\n",
    "\n"
   ]
  },
  {
   "cell_type": "code",
   "execution_count": null,
   "metadata": {},
   "outputs": [],
   "source": []
  },
  {
   "cell_type": "code",
   "execution_count": null,
   "metadata": {},
   "outputs": [],
   "source": []
  },
  {
   "cell_type": "code",
   "execution_count": null,
   "metadata": {},
   "outputs": [],
   "source": []
  },
  {
   "cell_type": "code",
   "execution_count": null,
   "metadata": {},
   "outputs": [],
   "source": [
    "    "
   ]
  },
  {
   "cell_type": "code",
   "execution_count": null,
   "metadata": {},
   "outputs": [],
   "source": []
  },
  {
   "cell_type": "code",
   "execution_count": null,
   "metadata": {},
   "outputs": [],
   "source": []
  },
  {
   "cell_type": "code",
   "execution_count": null,
   "metadata": {},
   "outputs": [],
   "source": []
  },
  {
   "cell_type": "markdown",
   "metadata": {},
   "source": [
    "# 4. Maps, HashMap, Hash Tables, and Skip Lists\n",
    "\n"
   ]
  },
  {
   "cell_type": "markdown",
   "metadata": {},
   "source": [
    "### Maps"
   ]
  },
  {
   "cell_type": "markdown",
   "metadata": {},
   "source": [
    "M[k]: Return the value v associated with key k in map M, if\n",
    "one exists; otherwise raise a KeyError. In Python, this is\n",
    "implemented with the special method getitem .\n",
    "\n",
    "M[k] = v: Associate value v with key k in map M, replacing the existing value if the map already contains an item with key\n",
    "equal to k. In Python, this is implemented with the special\n",
    "method setitem .\n",
    "\n",
    "del M[k]: Remove from map M the item with key equal to k; if M\n",
    "has no such item, then raise a KeyError. In Python, this is\n",
    "implemented with the special method delitem .\n",
    "\n",
    "len(M): Return the number of items in map M. In Python, this is\n",
    "implemented with the special method len .\n",
    "\n",
    "iter(M): The default iteration for a map generates a sequence of\n",
    "keys in the map. In Python, this is implemented with the\n",
    "special method iter , and it allows loops of the form,\n",
    "for k in M.\n",
    "\n",
    "k in M: Return True if the map contains an item with key k. In\n",
    "Python, this is implemented with the special contains\n",
    "method.\n",
    "\n",
    "M.get(k, d=None): Return M[k] if key k exists in the map; otherwise return\n",
    "default value d. This provides a form to query M[k] without risk of a KeyError.\n",
    "\n",
    "M.setdefault(k, d): If key k exists in the map, simply return M[k]; if key k\n",
    "does not exist, set M[k] = d and return that value.\n",
    "\n",
    "M.pop(k, d=None): Remove the item associated with key k from the map and\n",
    "return its associated value v. If key k is not in the map,\n",
    "return default value d (or raise KeyError if parameter d is\n",
    "None)\n",
    "\n",
    "M.popitem( ): Remove an arbitrary key-value pair from the map, and return a (k,v) tuple representing the removed pair. If map is\n",
    "empty, raise a KeyError.\n",
    "\n",
    "M.clear( ): Remove all key-value pairs from the map.\n",
    "\n",
    "M.keys( ): Return a set-like view of all keys of M.\n",
    "\n",
    "M.values( ): Return a set-like view of all values of M.\n",
    "\n",
    "M.items( ): Return a set-like view of (k,v) tuples for all entries of M.\n",
    "\n",
    "M.update(M2): Assign M[k] = v for every (k,v) pair in map M2.\n",
    "\n",
    "M == M2: Return True if maps M and M2 have identical key-value\n",
    "associations.\n",
    "\n",
    "M != M2: Return True if maps M and M2 do not have identical keyvalue associations."
   ]
  },
  {
   "cell_type": "code",
   "execution_count": null,
   "metadata": {},
   "outputs": [],
   "source": []
  },
  {
   "cell_type": "code",
   "execution_count": null,
   "metadata": {},
   "outputs": [],
   "source": []
  },
  {
   "cell_type": "code",
   "execution_count": null,
   "metadata": {},
   "outputs": [],
   "source": []
  },
  {
   "cell_type": "code",
   "execution_count": null,
   "metadata": {},
   "outputs": [],
   "source": []
  },
  {
   "cell_type": "markdown",
   "metadata": {},
   "source": [
    "### Hash Table/Map or Dictionary in Python "
   ]
  },
  {
   "cell_type": "markdown",
   "metadata": {},
   "source": [
    "HashMap\n",
    "\n",
    "1. A hashmap is a set of key value pairs\n",
    "2. No duplicate keys \n",
    "3. O(1) to add, get, delete \n",
    "4. In python, also dictionary \n",
    "\n",
    "Array, Hash Function , Collision Handle"
   ]
  },
  {
   "cell_type": "code",
   "execution_count": 2,
   "metadata": {},
   "outputs": [],
   "source": [
    "HashMap = {}\n",
    "HashMap['a'] = 1\n",
    "HashMap['a'] = 1\n"
   ]
  },
  {
   "cell_type": "code",
   "execution_count": 3,
   "metadata": {},
   "outputs": [
    {
     "data": {
      "text/plain": [
       "{'a': 1}"
      ]
     },
     "execution_count": 3,
     "metadata": {},
     "output_type": "execute_result"
    }
   ],
   "source": [
    "HashMap"
   ]
  },
  {
   "cell_type": "code",
   "execution_count": null,
   "metadata": {},
   "outputs": [],
   "source": []
  },
  {
   "cell_type": "code",
   "execution_count": null,
   "metadata": {},
   "outputs": [],
   "source": []
  },
  {
   "cell_type": "markdown",
   "metadata": {},
   "source": [
    "### Hash Table"
   ]
  },
  {
   "cell_type": "code",
   "execution_count": null,
   "metadata": {},
   "outputs": [],
   "source": []
  },
  {
   "cell_type": "code",
   "execution_count": null,
   "metadata": {},
   "outputs": [],
   "source": []
  },
  {
   "cell_type": "code",
   "execution_count": null,
   "metadata": {},
   "outputs": [],
   "source": []
  },
  {
   "cell_type": "code",
   "execution_count": null,
   "metadata": {},
   "outputs": [],
   "source": []
  },
  {
   "cell_type": "code",
   "execution_count": null,
   "metadata": {},
   "outputs": [],
   "source": []
  },
  {
   "cell_type": "code",
   "execution_count": null,
   "metadata": {},
   "outputs": [],
   "source": []
  },
  {
   "cell_type": "code",
   "execution_count": null,
   "metadata": {},
   "outputs": [],
   "source": []
  },
  {
   "cell_type": "code",
   "execution_count": null,
   "metadata": {},
   "outputs": [],
   "source": []
  }
 ],
 "metadata": {
  "kernelspec": {
   "display_name": "Python 3",
   "language": "python",
   "name": "python3"
  },
  "language_info": {
   "codemirror_mode": {
    "name": "ipython",
    "version": 3
   },
   "file_extension": ".py",
   "mimetype": "text/x-python",
   "name": "python",
   "nbconvert_exporter": "python",
   "pygments_lexer": "ipython3",
   "version": "3.8.3"
  }
 },
 "nbformat": 4,
 "nbformat_minor": 4
}
