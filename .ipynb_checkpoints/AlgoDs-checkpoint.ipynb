{
 "cells": [
  {
   "cell_type": "code",
   "execution_count": null,
   "metadata": {},
   "outputs": [],
   "source": []
  },
  {
   "cell_type": "markdown",
   "metadata": {},
   "source": [
    "# Linked Lists"
   ]
  },
  {
   "cell_type": "code",
   "execution_count": null,
   "metadata": {},
   "outputs": [],
   "source": []
  },
  {
   "cell_type": "markdown",
   "metadata": {},
   "source": [
    "# Single Linked List \n",
    "\n",
    "The first and last node of a linked list are known as the head and tail of the\n",
    "list, respectively. By starting at the head, and moving from one node to another\n",
    "by following each node’s next reference, we can reach the tail of the list. We can\n",
    "identify the tail as the node having None as its next reference. This process is\n",
    "commonly known as traversing the linked list. Because the next reference of a\n",
    "node can be viewed as a link or pointer to another node, the process of traversing\n",
    "a list is also known as link hopping or pointer hopping.\n",
    "\n",
    "\n"
   ]
  },
  {
   "cell_type": "markdown",
   "metadata": {},
   "source": [
    "# Inserting an Element at the Head of a Singly Linked List\n",
    "The main idea is that we create a new node, set its element to the new element, set its next link to refer to the current head, and then set the list’s head to point to the new node."
   ]
  },
  {
   "cell_type": "markdown",
   "metadata": {},
   "source": [
    "Algorithm add_first(L,e):\n",
    "\n",
    "    newest = Node(e) \n",
    "    {create new node instance storing reference to element e}\n",
    "    \n",
    "    newest.next = L.head {set new node’s next to reference the old head node}\n",
    "    \n",
    "    L.head = newest {set variable head to reference the new node}\n",
    "    \n",
    "    L.size = L.size+1 {increment the node count}\n",
    "    \n",
    "Inserting a new element at the beginning of a singly linked\n",
    "list L. Note that we set the next pointer of the new node before we reassign variable L.head to it. If the list were initially empty (i.e., L.head is None), then a natural consequence is that the new node has its next reference set to None."
   ]
  },
  {
   "cell_type": "markdown",
   "metadata": {},
   "source": [
    "Algorithm add_last(L,e):\n",
    "\n",
    "    newest = Node(e) \n",
    "    {create new node instance storing reference to element e}\n",
    "    \n",
    "    newest.next = None {set new node’s next to reference the None object}\n",
    "    \n",
    "    L.tail.next = newest {make old tail node point to new node}\n",
    "    \n",
    "    L.tail = newest {set variable tail to reference the new node}\n",
    "    \n",
    "    L.size = L.size+1 {increment the node count}\n",
    "    \n",
    "Inserting a new node at the end of a singly linked list. Note\n",
    "that we set the next pointer for the old tail node before we make variable tail point to the new node. This code would need to be adjusted for inserting onto an empty list, since there would not be an existing tail node"
   ]
  },
  {
   "cell_type": "markdown",
   "metadata": {},
   "source": [
    "# Removing an Element from a Singly Linked List\n",
    "\n"
   ]
  },
  {
   "cell_type": "markdown",
   "metadata": {},
   "source": [
    "Algorithm remove_first(L):\n",
    "\n",
    "    if L.head is None then\n",
    "        Indicate an error: the list is empty.\n",
    "        \n",
    "    L.head = L.head.next {make head point to next node (or None)}\n",
    "    \n",
    "    L.size = L.size−1 {decrement the node count}"
   ]
  },
  {
   "cell_type": "markdown",
   "metadata": {},
   "source": [
    "# Implementing a Stack with a Singly Linked List\n",
    "\n",
    "In this section, we demonstrate use of a singly linked list by providing a complete Python implementation of the stack ADT (see Section 6.1). In designing such an implementation, we need to decide whether to model the top of the stack at the head or at the tail of the list. There is clearly a best choice here; we can efficiently insert and delete elements in constant time only at the head. Since all stack operations affect the top, we orient the top of the stack at the head of our list.\n",
    "\n",
    "To represent individual nodes of the list, we develop a lightweight Node class.\n",
    "\n",
    "This class will never be directly exposed to the user of our stack class, so we will formally define it as a nonpublic, nested class of our eventual LinkedStack class"
   ]
  },
  {
   "cell_type": "code",
   "execution_count": 4,
   "metadata": {},
   "outputs": [],
   "source": [
    "class LinkedStack:\n",
    "    \n",
    "    #------------------ nested _Node Class\n",
    "\n",
    "    class _Node:\n",
    "        __slots__ = '_element', '_next' #streamline memory usage\n",
    "\n",
    "        def __init__(self, element, next): #init mode fields \n",
    "            self._element = element #ref to user element\n",
    "            self._next = next #ref to next node \n",
    "            \n",
    "    #------------------ Stack method\n",
    "    \n",
    "    def __init__(self):\n",
    "        \"\"\"Create an empty stack\"\"\"\n",
    "        self._head = None #ref to the head node\n",
    "        self._size = 0 #number of stack element\n",
    "    \n",
    "    \n"
   ]
  },
  {
   "cell_type": "code",
   "execution_count": null,
   "metadata": {},
   "outputs": [],
   "source": []
  },
  {
   "cell_type": "code",
   "execution_count": null,
   "metadata": {},
   "outputs": [],
   "source": []
  },
  {
   "cell_type": "code",
   "execution_count": null,
   "metadata": {},
   "outputs": [],
   "source": []
  }
 ],
 "metadata": {
  "kernelspec": {
   "display_name": "Python 3",
   "language": "python",
   "name": "python3"
  },
  "language_info": {
   "codemirror_mode": {
    "name": "ipython",
    "version": 3
   },
   "file_extension": ".py",
   "mimetype": "text/x-python",
   "name": "python",
   "nbconvert_exporter": "python",
   "pygments_lexer": "ipython3",
   "version": "3.8.3"
  }
 },
 "nbformat": 4,
 "nbformat_minor": 4
}
