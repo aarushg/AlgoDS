{
 "cells": [
  {
   "cell_type": "markdown",
   "metadata": {},
   "source": [
    "Code: Needs coding done \n",
    "Review: Have Code but dont understand ALgo\n",
    "ND: Not Done "
   ]
  },
  {
   "cell_type": "markdown",
   "metadata": {},
   "source": [
    "Given a string containing digits from 2-9 inclusive, return all possible letter combinations that the number could represent.\n",
    "\n",
    "A mapping of digit to letters (just like on the telephone buttons) is given below. Note that 1 does not map to any letters."
   ]
  },
  {
   "cell_type": "markdown",
   "metadata": {},
   "source": [
    "Topics Covered: dictionary, Recursion"
   ]
  },
  {
   "cell_type": "markdown",
   "metadata": {},
   "source": [
    "Reference:\n",
    "https://leetcode.com/problems/letter-combinations-of-a-phone-number/\n",
    "\n",
    "  https://www.youtube.com/watch?v=cIOxZ7bNh7w&list=PL6AvMp7YYQRxyltgP9mucWXYxcn1e2mx3&index=6"
   ]
  },
  {
   "cell_type": "markdown",
   "metadata": {},
   "source": [
    "Difficulty: Medium  "
   ]
  },
  {
   "cell_type": "markdown",
   "metadata": {},
   "source": [
    "Example: \n",
    "Input: \"23\"\n",
    "Output: [\"ad\", \"ae\", \"af\", \"bd\", \"be\", \"bf\", \"cd\", \"ce\", \"cf\"]."
   ]
  },
  {
   "cell_type": "code",
   "execution_count": 9,
   "metadata": {},
   "outputs": [
    {
     "name": "stdout",
     "output_type": "stream",
     "text": [
      "{'bd', 'ad', 'af', 'cf', 'ae', 'cd', 'be', 'ce', 'bf'}\n"
     ]
    }
   ],
   "source": [
    "class Solution(object):\n",
    "\n",
    "    def __init__(self):\n",
    "        self.d = {\n",
    "            \"0\": \"_\",\n",
    "            \"1\": None,\n",
    "            \"2\": \"abc\",\n",
    "            \"3\": \"def\",\n",
    "            \"4\": \"ghi\",\n",
    "            \"5\": \"jkl\",\n",
    "            \"6\": \"mno\",\n",
    "            \"7\": \"pqrs\",\n",
    "            \"8\": \"tuv\",\n",
    "            \"9\": \"wxyz\",\n",
    "        }\n",
    "\n",
    "    \n",
    "    def letterCombination(self, digits):\n",
    "\n",
    "        #set is an unordered collections of elements without duplicates\n",
    "        combinations = set()\n",
    "\n",
    "        def recurse(rest_of_the_word, path_so_far):\n",
    "\n",
    "            if not rest_of_the_word:\n",
    "                combinations.add(path_so_far)\n",
    "                return\n",
    "            \n",
    "            \n",
    "            # Get the first letter and seperate the rest of it \n",
    "            first, rest = rest_of_the_word[0], rest_of_the_word[1:]\n",
    "\n",
    "            #get the first letter in our init\n",
    "            letters = self.d[first]\n",
    "\n",
    "            #go through all the letters\n",
    "            for letter in letters:\n",
    "                \n",
    "                #recursively call rest of the data with the left over\n",
    "                recurse(rest, path_so_far + letter)\n",
    "    \n",
    "        recurse(digits, \"\")\n",
    "        return combinations\n",
    "                \n",
    "\n",
    "r = Solution()\n",
    "res = r.letterCombination(\"23\")\n",
    "\n",
    "print(res)\n",
    "    "
   ]
  },
  {
   "cell_type": "code",
   "execution_count": null,
   "metadata": {},
   "outputs": [],
   "source": []
  }
 ],
 "metadata": {
  "kernelspec": {
   "display_name": "Python 3",
   "language": "python",
   "name": "python3"
  },
  "language_info": {
   "codemirror_mode": {
    "name": "ipython",
    "version": 3
   },
   "file_extension": ".py",
   "mimetype": "text/x-python",
   "name": "python",
   "nbconvert_exporter": "python",
   "pygments_lexer": "ipython3",
   "version": "3.8.3"
  }
 },
 "nbformat": 4,
 "nbformat_minor": 4
}
