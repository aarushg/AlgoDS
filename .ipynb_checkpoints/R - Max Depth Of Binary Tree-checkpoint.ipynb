{
 "cells": [
  {
   "cell_type": "markdown",
   "metadata": {},
   "source": [
    "Code: Needs coding done \n",
    "Review: Have Code but dont understand ALgo\n",
    "ND: Not Done"
   ]
  },
  {
   "cell_type": "markdown",
   "metadata": {},
   "source": [
    "Given the root of a binary tree, return its maximum depth.\n",
    "\n",
    "A binary tree's maximum depth is the number of nodes along the longest path from the root node down to the farthest leaf node."
   ]
  },
  {
   "cell_type": "markdown",
   "metadata": {},
   "source": [
    "Topics Covered: Trees"
   ]
  },
  {
   "cell_type": "markdown",
   "metadata": {},
   "source": [
    "Reference: \n",
    "  https://leetcode.com/problems/maximum-depth-of-binary-tree/\n",
    "  https://www.youtube.com/watch?v=to2XMEXE1ms"
   ]
  },
  {
   "cell_type": "markdown",
   "metadata": {},
   "source": [
    "Difficulty: Easy"
   ]
  },
  {
   "cell_type": "markdown",
   "metadata": {},
   "source": [
    "Example: \n",
    "\n",
    "Input: root = [3,9,20,null,null,15,7]\n",
    "Output: 3\n",
    "Example 2:\n",
    "\n",
    "Input: root = [1,null,2]\n",
    "Output: 2\n",
    "Example 3:\n",
    "\n",
    "Input: root = []\n",
    "Output: 0\n",
    "Example 4:\n",
    "\n",
    "Input: root = [0]\n",
    "Output: 1"
   ]
  },
  {
   "cell_type": "code",
   "execution_count": null,
   "metadata": {},
   "outputs": [],
   "source": [
    "# Definition for singly-linked list.\n",
    "# class TreeNode:\n",
    "#     def __init__(self, x):\n",
    "#         self.val = val\n",
    "#         self.left = next\n",
    "#         self.right = next\n",
    "\n",
    "\n",
    "class Solution(object):\n",
    "    \n",
    "    def maxDepth(self, root):\n",
    "        if root in None:\n",
    "            return 0\n",
    "        else:\n",
    "            return 1 + max(\n",
    "            self.maxDepth(root.left),\n",
    "            self.maxDepth(root.right))\n",
    "\n",
    "instantiate = Solution()\n",
    "run = instantiate.maxDepth(\"[3,9,20,null,null,15,7]\")\n",
    "\n",
    "print(run)"
   ]
  }
 ],
 "metadata": {
  "kernelspec": {
   "display_name": "Python 3",
   "language": "python",
   "name": "python3"
  },
  "language_info": {
   "codemirror_mode": {
    "name": "ipython",
    "version": 3
   },
   "file_extension": ".py",
   "mimetype": "text/x-python",
   "name": "python",
   "nbconvert_exporter": "python",
   "pygments_lexer": "ipython3",
   "version": "3.8.3"
  }
 },
 "nbformat": 4,
 "nbformat_minor": 4
}
