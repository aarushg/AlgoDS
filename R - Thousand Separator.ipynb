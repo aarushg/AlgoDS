{
 "cells": [
  {
   "cell_type": "markdown",
   "metadata": {},
   "source": [
    "Code: Needs coding done \n",
    "Review: Have Code but dont understand ALgo\n",
    "ND: Not Done"
   ]
  },
  {
   "cell_type": "markdown",
   "metadata": {},
   "source": [
    "Given an integer n, add a dot (\".\") as the thousands separator and return it in string format."
   ]
  },
  {
   "cell_type": "markdown",
   "metadata": {},
   "source": [
    "Topics Covered: "
   ]
  },
  {
   "cell_type": "markdown",
   "metadata": {},
   "source": [
    "Reference:https://leetcode.com/problems/thousand-separator/\n",
    "https://www.youtube.com/watch?v=73XF86OgAHg&list=PL2rWx9cCzU84eBz9Xfp9Rah5Fexq5yrh8\n",
    "  "
   ]
  },
  {
   "cell_type": "markdown",
   "metadata": {},
   "source": [
    "Difficulty: Easy"
   ]
  },
  {
   "cell_type": "markdown",
   "metadata": {},
   "source": [
    "Example: \n",
    "\n",
    "Example 1:\n",
    "\n",
    "Input: n = 987\n",
    "Output: \"987\"\n",
    "Example 2:\n",
    "\n",
    "Input: n = 1234\n",
    "Output: \"1.234\"\n",
    "Example 3:\n",
    "\n",
    "Input: n = 123456789\n",
    "Output: \"123.456.789\"\n",
    "Example 4:\n",
    "\n",
    "Input: n = 0\n",
    "Output: \"0\""
   ]
  },
  {
   "cell_type": "code",
   "execution_count": 2,
   "metadata": {},
   "outputs": [
    {
     "name": "stdout",
     "output_type": "stream",
     "text": [
      "4.855.566\n"
     ]
    }
   ],
   "source": [
    "# Definition for singly-linked list.\n",
    "# class ListNode:\n",
    "#     def __init__(self, val=0, next=None):\n",
    "#         self.val = val\n",
    "#         self.next = next\n",
    "\n",
    "class Solution(object):\n",
    "    \n",
    "    def thousandSeparator(self, n: int) -> str:\n",
    "        \n",
    "        result = ''\n",
    "        \n",
    "        n = str(n)\n",
    "        \n",
    "        count = 0\n",
    "        #len - start stop end \n",
    "        for i in range(len(n)-1, -1, -1):\n",
    "            \n",
    "            if count < 3:\n",
    "                result = n[i] + result\n",
    "                count += 1 \n",
    "                \n",
    "            if count == 3 and i >= 1:\n",
    "                result = '.' + result \n",
    "                count = 0\n",
    "                \n",
    "        return result \n",
    "        \n",
    "\n",
    "instantiate = Solution()\n",
    "run = instantiate.thousandSeparator(\"4855566\")\n",
    "\n",
    "print(run)"
   ]
  },
  {
   "cell_type": "code",
   "execution_count": null,
   "metadata": {},
   "outputs": [],
   "source": []
  }
 ],
 "metadata": {
  "kernelspec": {
   "display_name": "Python 3",
   "language": "python",
   "name": "python3"
  },
  "language_info": {
   "codemirror_mode": {
    "name": "ipython",
    "version": 3
   },
   "file_extension": ".py",
   "mimetype": "text/x-python",
   "name": "python",
   "nbconvert_exporter": "python",
   "pygments_lexer": "ipython3",
   "version": "3.7.3"
  }
 },
 "nbformat": 4,
 "nbformat_minor": 4
}
