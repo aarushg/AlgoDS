{
 "cells": [
  {
   "cell_type": "markdown",
   "metadata": {},
   "source": [
    "Given two non-empty binary trees s and t, check whether tree t has exactly the same structure and node values with a subtree of s. A subtree of s is a tree consists of a node in s and all of this node's descendants. The tree s could also be considered as a subtree of itself."
   ]
  },
  {
   "cell_type": "markdown",
   "metadata": {},
   "source": [
    "Difficulty: Easy"
   ]
  },
  {
   "cell_type": "markdown",
   "metadata": {},
   "source": [
    "Example 1:\n",
    "Given tree s:\n",
    "\n",
    "     3\n",
    "    / \\\n",
    "   4   5\n",
    "  / \\\n",
    " 1   2\n",
    "Given tree t:\n",
    "   4 \n",
    "  / \\\n",
    " 1   2\n",
    "Return true, because t has the same structure and node values with a subtree of s.\n",
    " \n",
    "\n",
    "Example 2:\n",
    "Given tree s:\n",
    "\n",
    "     3\n",
    "    / \\\n",
    "   4   5\n",
    "  / \\\n",
    " 1   2\n",
    "    /\n",
    "   0\n",
    "Given tree t:\n",
    "   4\n",
    "  / \\\n",
    " 1   2\n",
    "Return false."
   ]
  },
  {
   "cell_type": "code",
   "execution_count": 5,
   "metadata": {},
   "outputs": [],
   "source": [
    "class TreeNode:\n",
    "    def __init__(self, val=0, left=None, right=None):\n",
    "        self.val = val\n",
    "        self.left = left\n",
    "        self.right = right\n",
    "\n",
    "        \n",
    "#this is a recursive function to check if both trees roots are identical\n",
    "def isIdentical(TreeNode maintree, TreeNode subtree):\n",
    "    \n",
    "    #Base Case \n",
    "    #Check if both trees are empty then ret True\n",
    "    if maintree is None || subtree is None:\n",
    "        return maintree == None && \n",
    "    #Base Case\n",
    "    #if one of the trees are empty then ret false\n",
    "    if r1 is None or r2 is None:\n",
    "        return False\n",
    "    \n",
    "    #Check if the the data of the roots are the same and \n",
    "    #check if the the data of the left and right subtress is the same\n",
    "    return(\n",
    "        root1.val == root2.val and \n",
    "        isIdentical(root1.left, root2.left) and \n",
    "        isIdentical(root1.right, root2.right)   \n",
    "    \n",
    "    )\n",
    "\n",
    "\n",
    "#Ret True if s is a subtree of t otherwise ret False\n",
    "def isSubtree(TreeNode maintree, TreeNode subtree):\n",
    "    \n",
    "    "
   ]
  },
  {
   "cell_type": "markdown",
   "metadata": {},
   "source": [
    "Driver Code:"
   ]
  },
  {
   "cell_type": "markdown",
   "metadata": {},
   "source": [
    "Driver program to test above function \n",
    "  \n",
    "\"\"\" TREE 1 \n",
    "     Construct the following tree \n",
    "              26 \n",
    "            /   \\ \n",
    "          10     3 \n",
    "        /    \\     \\ \n",
    "      4      6      3 \n",
    "       \\ \n",
    "        30 \n",
    "    \"\"\""
   ]
  },
  {
   "cell_type": "code",
   "execution_count": 6,
   "metadata": {},
   "outputs": [],
   "source": [
    "#root of maintree\n",
    "maintree = TreeNode(26)\n",
    "\n",
    "maintree.right = TreeNode(3)\n",
    "maintree.right.right = TreeNode(3)\n",
    "maintree.left = TreeNode(10)\n",
    "maintree.left.left = TreeNode(4)\n",
    "maintree.left.right = TreeNode(6)\n",
    "maintree.left.left.right = TreeNode(30)"
   ]
  },
  {
   "cell_type": "markdown",
   "metadata": {},
   "source": [
    "\"\"\" TREE 2 \n",
    "     Construct the following tree \n",
    "          10 \n",
    "        /    \\ \n",
    "      4      6 \n",
    "       \\ \n",
    "        30 \n",
    "    \"\"\""
   ]
  },
  {
   "cell_type": "code",
   "execution_count": 7,
   "metadata": {},
   "outputs": [],
   "source": [
    "subtree = TreeNode(10) \n",
    "subtree.right = TreeNode(6) \n",
    "subtree.left = TreeNode(4) \n",
    "subtree.left.right = TreeNode(30)"
   ]
  },
  {
   "cell_type": "code",
   "execution_count": 9,
   "metadata": {},
   "outputs": [
    {
     "name": "stdout",
     "output_type": "stream",
     "text": [
      "Tree 2 is not a subtree of Tree 1\n"
     ]
    }
   ],
   "source": [
    "if isSubtree(maintree, subtree): \n",
    "    print(\"Tree 2 is subtree of Tree 1\")\n",
    "else : \n",
    "    print(\"Tree 2 is not a subtree of Tree 1\")"
   ]
  },
  {
   "cell_type": "code",
   "execution_count": null,
   "metadata": {},
   "outputs": [],
   "source": []
  }
 ],
 "metadata": {
  "kernelspec": {
   "display_name": "Python 3",
   "language": "python",
   "name": "python3"
  },
  "language_info": {
   "codemirror_mode": {
    "name": "ipython",
    "version": 3
   },
   "file_extension": ".py",
   "mimetype": "text/x-python",
   "name": "python",
   "nbconvert_exporter": "python",
   "pygments_lexer": "ipython3",
   "version": "3.8.3"
  }
 },
 "nbformat": 4,
 "nbformat_minor": 4
}
