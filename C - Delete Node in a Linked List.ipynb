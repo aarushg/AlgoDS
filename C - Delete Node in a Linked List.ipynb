{
 "cells": [
  {
   "cell_type": "markdown",
   "metadata": {},
   "source": [
    "Code: Needs coding done \n",
    "Review: Have Code but dont understand ALgo\n",
    "ND: Not Done"
   ]
  },
  {
   "cell_type": "markdown",
   "metadata": {},
   "source": [
    "Write a function to delete a node in a singly-linked list. You will not be given access to the head of the list, instead you will be given access to the node to be deleted directly.\n",
    "\n",
    "It is guaranteed that the node to be deleted is not a tail node in the list."
   ]
  },
  {
   "cell_type": "markdown",
   "metadata": {},
   "source": [
    "Topics Covered: Linked List "
   ]
  },
  {
   "cell_type": "markdown",
   "metadata": {},
   "source": [
    "Reference:\n",
    "https://leetcode.com/problems/delete-node-in-a-linked-list/\n",
    "https://www.youtube.com/watch?v=ruat4x3OwQc&feature=emb_logo\n",
    "  "
   ]
  },
  {
   "cell_type": "markdown",
   "metadata": {},
   "source": [
    "Difficulty: Easy"
   ]
  },
  {
   "cell_type": "markdown",
   "metadata": {},
   "source": [
    "Example: Input: head = [4,5,1,9], node = 5\n",
    "Output: [4,1,9]\n",
    "Explanation: You are given the second node with value 5, the linked list should become 4 -> 1 -> 9 after calling your function."
   ]
  },
  {
   "cell_type": "code",
   "execution_count": 14,
   "metadata": {},
   "outputs": [
    {
     "name": "stdout",
     "output_type": "stream",
     "text": [
      "0 -> 4 -> 5 -> 1 -> 9 -> <built-in function next>\n"
     ]
    }
   ],
   "source": [
    "# Definition for singly-linked list.\n",
    "class ListNode:\n",
    "    def __init__(self, val):\n",
    "        self.val = val\n",
    "        self.next = next\n",
    "        \n",
    "    def __repr__(self):\n",
    "        while self != None:\n",
    "            return \"{} -> {}\".format(self.val, self.next)\n",
    "        \n",
    "        \n",
    "class Solution(object):\n",
    "    \n",
    "    def deleteNode(self, node):\n",
    "        \n",
    "        next = node.next\n",
    "        node.val = next.val\n",
    "        node.next = next.next\n",
    "\n",
    "        \n",
    "        \n",
    "        \n",
    "if __name__ == \"__main__\":\n",
    "    head = ListNode(0)\n",
    "    head.next = ListNode(4)\n",
    "    head.next.next = ListNode(5)\n",
    "    head.next.next.next = ListNode(1)\n",
    "    head.next.next.next.next = ListNode(9)\n",
    "    #head.next.next.next.next.next = ListNode(None)\n",
    "\n",
    "\n",
    "    print(head)\n",
    "    \n",
    "    #head = 4->5->1->9\n",
    "    \n",
    "    instantiate = Solution()\n",
    "    #run = instantiate.deleteNode(head, 5)\n",
    "    #print(run)"
   ]
  },
  {
   "cell_type": "code",
   "execution_count": null,
   "metadata": {},
   "outputs": [],
   "source": []
  }
 ],
 "metadata": {
  "kernelspec": {
   "display_name": "Python 3",
   "language": "python",
   "name": "python3"
  },
  "language_info": {
   "codemirror_mode": {
    "name": "ipython",
    "version": 3
   },
   "file_extension": ".py",
   "mimetype": "text/x-python",
   "name": "python",
   "nbconvert_exporter": "python",
   "pygments_lexer": "ipython3",
   "version": "3.8.3"
  }
 },
 "nbformat": 4,
 "nbformat_minor": 4
}
